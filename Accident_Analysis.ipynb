{
  "nbformat": 4,
  "nbformat_minor": 0,
  "metadata": {
    "colab": {
      "name": "Acc.ipynb",
      "private_outputs": true,
      "provenance": [],
      "collapsed_sections": []
    },
    "kernelspec": {
      "name": "python3",
      "display_name": "Python 3"
    }
  },
  "cells": [
    {
      "cell_type": "code",
      "metadata": {
        "id": "Md7Q-5I2fmSi"
      },
      "source": [
        "from google.colab import drive\n",
        "drive.mount('/content/drive',force_remount=True)"
      ],
      "execution_count": null,
      "outputs": []
    },
    {
      "cell_type": "code",
      "metadata": {
        "id": "hq9xyoZPghi6"
      },
      "source": [
        "import pandas as pd\n",
        "import numpy as np\n",
        "import seaborn as sns\n",
        "import matplotlib.pyplot as plt"
      ],
      "execution_count": null,
      "outputs": []
    },
    {
      "cell_type": "code",
      "metadata": {
        "id": "ssvZfCaBghle"
      },
      "source": [
        "killed_df =  pd.read_csv('/content/drive/My Drive/datasets_433415_823663_Road_Accidents_2017-Annuxure_Tables_3.csv')\n",
        "injured_df =  pd.read_csv('/content/drive/My Drive/datasets_433415_823663_Road_Accidents_2017-Annuxure_Tables_4.csv')\n",
        "weather_df =  pd.read_csv('/content/drive/My Drive/datasets_433415_823663_Acc_Classified_according_to_Type_of_Weather_Condition_2014_and_2016.csv')\n",
        "roadcond_df =  pd.read_csv('/content/drive/My Drive/datasets_433415_823663_Acc_clf_acco_to_Road_Cond_2014_and_2016.csv')"
      ],
      "execution_count": null,
      "outputs": []
    },
    {
      "cell_type": "code",
      "metadata": {
        "id": "1Cu3XV3qghoT"
      },
      "source": [
        "killed_df = killed_df.drop(columns = ['Share of States/UTs in Total Number of Persons Killed in Road Accidents - 2014',\n",
        "       'Share of States/UTs in Total Number of Persons Killed in Road Accidents - 2015',\n",
        "       'Share of States/UTs in Total Number of Persons Killed in Road Accidents - 2016',\n",
        "       'Share of States/UTs in Total Number of Persons Killed in Road Accidents - 2017',\n",
        "       'Total Number of Persons Killed in Road Accidents Per Lakh Population - 2014',\n",
        "       'Total Number of Persons Killed in Road Accidents Per Lakh Population - 2015',\n",
        "       'Total Number of Persons Killed in Road Accidents Per Lakh Population - 2016',\n",
        "       'Total Number of Persons Killed in Road Accidents Per Lakh Population - 2017',\n",
        "       'Total Number of Persons Killed in Road Accidents per 10,000 Vehicles - 2014',\n",
        "       'Total Number of Persons Killed in Road Accidents per 10,000 Vehicles - 2015',\n",
        "       'Total Number of Persons Killed in Road Accidents per 10,000 Vehicles - 2016',\n",
        "       'Total Number of Persons Killed in Road Accidents per 10,000 Km of Roads - 2014',\n",
        "       'Total Number of Persons Killed in Road Accidents per 10,000 Km of Roads - 2015',\n",
        "       'Total Number of Persons Killed in Road Accidents per 10,000 Km of Roads - 2016' ])\n",
        "\n",
        "injured_df = injured_df.drop(columns = ['Share of States/UTs in Total Number of Persons Injured in Road Accidents - 2014',\n",
        "       'Share of States/UTs in Total Number of Persons Injured in Road Accidents - 2015',\n",
        "       'Share of States/UTs in Total Number of Persons Injured in Road Accidents - 2016',\n",
        "       'Share of States/UTs in Total Number of Persons Injured in Road Accidents - 2017',\n",
        "       'Total Number of Persons Injured in Road Accidents Per Lakh Population - 2014',\n",
        "       'Total Number of Persons Injured in Road Accidents Per Lakh Population - 2015',\n",
        "       'Total Number of Persons Injured in Road Accidents Per Lakh Population - 2016',\n",
        "       'Total Number of Persons Injured in Road Accidents Per Lakh Population - 2017',\n",
        "       'Total Number of Persons injured in Road Accidents per 10,000 Vehicles - 2014',\n",
        "       'Total Number of Persons injured in Road Accidents per 10,000 Vehicles - 2015',\n",
        "       'Total Number of Persons injured in Road Accidents per 10,000 Vehicles - 2016',\n",
        "       'Total Number of Persons injured in Road Accidents per 10,000 Km of Roads - 2014',\n",
        "       'Total Number of Persons injured in Road Accidents per 10,000 Km of Roads - 2015',\n",
        "       'Total Number of Persons injured in Road Accidents per 10,000 Km of Roads - 2016'])"
      ],
      "execution_count": null,
      "outputs": []
    },
    {
      "cell_type": "code",
      "metadata": {
        "id": "YdZ5LvQEghrA"
      },
      "source": [
        "killed_df = killed_df.rename(columns = {'State/UT-wise Total Number of Persons Killed in Road Accidents during - 2014':2014,\n",
        "                                       'State/UT-wise Total Number of Persons Killed in Road Accidents during - 2015':2015,\n",
        "                                       'State/UT-wise Total Number of Persons Killed in Road Accidents during - 2016':2016,\n",
        "                                       'State/UT-wise Total Number of Persons Killed in Road Accidents during - 2017':2017})\n",
        "injured_df = injured_df.rename(columns = {'State/UT-wise Total Number of Persons Injured in Road Accidents during - 2014':2014,\n",
        "                                       'State/UT-wise Total Number of Persons Injured in Road Accidents during - 2015':2015,\n",
        "                                       'State/UT-wise Total Number of Persons Injured in Road Accidents during - 2016':2016,\n",
        "                                       'State/UT-wise Total Number of Persons Injured in Road Accidents during - 2017':2017})\n",
        "roadcond_df =  roadcond_df.rename(columns = {'State/ UT':'States/UTs'})\n",
        "weather_df =  weather_df.rename(columns = {'State/ UT':'States/UTs'})  "
      ],
      "execution_count": null,
      "outputs": []
    },
    {
      "cell_type": "code",
      "metadata": {
        "id": "g1Hu14EUghtm"
      },
      "source": [
        "north_india = ['Jammu & Kashmir', 'Punjab', 'Himachal Pradesh', 'Haryana', 'Uttarakhand', 'Uttar Pradesh', 'Chandigarh', 'Jammu and Kashmir', 'Delhi']\n",
        "east_india = ['Bihar', 'Odisha', 'Jharkhand', 'West Bengal', 'Orissa']\n",
        "south_india = ['Andhra Pradesh', 'Karnataka', 'Kerala' ,'Tamil Nadu', 'Telangana']\n",
        "west_india = ['Rajasthan' , 'Gujarat', 'Goa','Maharashtra','Goa']\n",
        "central_india = ['Madhya Pradesh', 'Chhattisgarh']\n",
        "north_east_india = ['Assam', 'Sikkim', 'Nagaland', 'Meghalaya', 'Manipur', 'Mizoram', 'Tripura', 'Arunachal Pradesh']\n",
        "ut_india = ['Andaman and Nicobar Islands', 'Dadra and Nagar Haveli', 'Puducherry', 'Andaman & Nicobar Islands', 'Dadra & Nagar Haveli', 'Daman & Diu', 'Lakshadweep', 'A & N Islands', 'D & N Haveli']"
      ],
      "execution_count": null,
      "outputs": []
    },
    {
      "cell_type": "code",
      "metadata": {
        "id": "NAkG2upFghwW"
      },
      "source": [
        "def get_zonal_names(row):\n",
        "    if row['States/UTs'].strip() in north_india:\n",
        "        val = 'North Zone'\n",
        "    elif row['States/UTs'].strip()  in south_india:\n",
        "        val = 'South Zone'\n",
        "    elif row['States/UTs'].strip()  in east_india:\n",
        "        val = 'East Zone'\n",
        "    elif row['States/UTs'].strip()  in west_india:\n",
        "        val = 'West Zone'\n",
        "    elif row['States/UTs'].strip()  in central_india:\n",
        "        val = 'Central Zone'\n",
        "    elif row['States/UTs'].strip()  in north_east_india:\n",
        "        val = 'NE Zone'\n",
        "    elif row['States/UTs'].strip()  in ut_india:\n",
        "        val = 'Union Terr'\n",
        "    else:\n",
        "        val = 'No Value'\n",
        "    return val"
      ],
      "execution_count": null,
      "outputs": []
    },
    {
      "cell_type": "code",
      "metadata": {
        "id": "6APFHJAzghy8"
      },
      "source": [
        "killed_df.drop(killed_df[killed_df['States/UTs'] == 'Total'].index, inplace=True)\n",
        "killed_df['Zones'] = killed_df.apply(get_zonal_names, axis=1)\n",
        "injured_df.drop(injured_df[injured_df['States/UTs'] == 'Total'].index, inplace=True)\n",
        "injured_df['Zones'] = injured_df.apply(get_zonal_names, axis=1)\n",
        "roadcond_df.drop(roadcond_df[roadcond_df['States/UTs'] == 'Total'].index, inplace=True)\n",
        "roadcond_df['Zones'] = roadcond_df.apply(get_zonal_names, axis=1)\n",
        "weather_df.drop(weather_df[weather_df['States/UTs'] == 'Total'].index, inplace=True)\n",
        "weather_df['Zones'] = weather_df.apply(get_zonal_names, axis=1)"
      ],
      "execution_count": null,
      "outputs": []
    },
    {
      "cell_type": "code",
      "metadata": {
        "id": "ixSsAcmNgh1k"
      },
      "source": [
        "total_col = [col for col in weather_df.columns if 'Total' in col]\n",
        "killed_col = [col for col in weather_df.columns if 'Killed' in col]\n",
        "injured_col = [col for col in weather_df.columns if 'Injured' in col]\n",
        "weather_df_killed = weather_df.drop(columns = total_col+injured_col)\n",
        "weather_df_injured = weather_df.drop(columns = total_col+killed_col)"
      ],
      "execution_count": null,
      "outputs": []
    },
    {
      "cell_type": "code",
      "metadata": {
        "id": "_1kBVZIAgh4K"
      },
      "source": [
        "total_col = [col for col in roadcond_df.columns if 'Accident' in col]\n",
        "killed_col = [col for col in roadcond_df.columns if 'Killed' in col]\n",
        "injured_col = [col for col in roadcond_df.columns if 'Injured' in col]\n",
        "roadcond_df_killed = roadcond_df.drop(columns = total_col+injured_col)\n",
        "roadcond_df_injured = roadcond_df.drop(columns = total_col+killed_col)"
      ],
      "execution_count": null,
      "outputs": []
    },
    {
      "cell_type": "code",
      "metadata": {
        "id": "RSetBsfDgh7E"
      },
      "source": [
        "df =pd.pivot_table(killed_df, index=['Zones'],values=[2014, 2015, 2016, 2017],aggfunc=np.sum).reset_index()\n",
        "df\n",
        "\n",
        "years = [2014,2015,2016,2017]\n",
        "fig,ax = plt.subplots(1,1, figsize=(20,10))\n",
        "for i,year in enumerate(years):\n",
        "    sns.lineplot(x=df['Zones'],y=df[year], label=years[i])\n",
        "    plt.ylabel('# of People Killed in Accidents')\n",
        "    plt.title('Zone Wise No. of Accidents where People were Killed', fontsize=15)"
      ],
      "execution_count": null,
      "outputs": []
    },
    {
      "cell_type": "code",
      "metadata": {
        "id": "QiDTXZvMgh9w"
      },
      "source": [
        "df =pd.pivot_table(injured_df, index=['Zones'],values=[2014, 2015, 2016, 2017],aggfunc=np.sum).reset_index()\n",
        "df\n",
        "\n",
        "years = [2014,2015,2016,2017]\n",
        "fig,ax = plt.subplots(1,1, figsize=(20,10))\n",
        "for i,year in enumerate(years):\n",
        "    sns.lineplot(x=df['Zones'],y=df[year], label=years[i])\n",
        "    plt.ylabel('# of People Injured in Accidents')\n",
        "    plt.title('Zone Wise No. of Accidents where People were Injured', fontsize=15)"
      ],
      "execution_count": null,
      "outputs": []
    },
    {
      "cell_type": "code",
      "metadata": {
        "id": "s4_gHH-QgiAj"
      },
      "source": [
        "sub_df = killed_df[killed_df['Zones'] == 'South Zone']\n",
        "df =pd.pivot_table(sub_df, index=['States/UTs'],values=[2014, 2015, 2016, 2017],aggfunc=np.sum).reset_index()\n",
        "df\n",
        "\n",
        "years = [2014,2015,2016,2017]\n",
        "fig,ax = plt.subplots(1,1, figsize=(20,10))\n",
        "for i,year in enumerate(years):\n",
        "    sns.barplot(x=df['States/UTs'],y=df[year])\n",
        "    plt.ylabel('# of People Killed in Road Accidents')\n",
        "    plt.title('Southern State Wise No. of Road Accidents where People were Killed', fontsize=15)"
      ],
      "execution_count": null,
      "outputs": []
    },
    {
      "cell_type": "code",
      "metadata": {
        "id": "BXe-Yt7VgiDW"
      },
      "source": [
        "sub_df = injured_df[injured_df['Zones'] == 'South Zone']\n",
        "df =pd.pivot_table(sub_df, index=['States/UTs'],values=[2014, 2015, 2016, 2017],aggfunc=np.sum).reset_index()\n",
        "df\n",
        "\n",
        "years = [2014,2015,2016,2017]\n",
        "fig,ax = plt.subplots(1,1, figsize=(20,10))\n",
        "for i,year in enumerate(years):\n",
        "    sns.barplot(x=df['States/UTs'],y=df[year])\n",
        "    plt.ylabel('# of People Injured in Road Accidents')\n",
        "    plt.title('Southern State Wise No. of Road Accidents where People were Injured', fontsize=15)"
      ],
      "execution_count": null,
      "outputs": []
    },
    {
      "cell_type": "code",
      "metadata": {
        "id": "pKp7pJY3giF6"
      },
      "source": [
        "sub_df = weather_df_killed[weather_df_killed['Zones'] == 'South Zone']\n",
        "df =pd.pivot_table(sub_df, index=['Zones'],aggfunc=np.sum).reset_index()\n",
        "df = df.T.reset_index()\n",
        "df = df.rename(columns = {'index': 'Weather Conditions', 0: 'Total'})\n",
        "df = df.drop(df.index[0])\n",
        "df = df.sort_values(by = ['Total'], ascending=False).head(10)\n",
        "df\n",
        "\n",
        "fig,ax = plt.subplots(1,1, figsize=(20,10))\n",
        "sns.barplot(x=df['Weather Conditions'],y=df['Total'])\n",
        "plt.ylabel('# of People Killed')\n",
        "plt.title('Southern Zone No. of People Killed in Road Accidents Based on Weather', fontsize=15)"
      ],
      "execution_count": null,
      "outputs": []
    },
    {
      "cell_type": "code",
      "metadata": {
        "id": "h82awIhwgiIz"
      },
      "source": [
        "sub_df = weather_df_killed[weather_df_killed['Zones'] == 'South Zone']\n",
        "df =pd.pivot_table(sub_df, index=['States/UTs'],aggfunc=np.sum).reset_index()\n",
        "df = df.reset_index()\n",
        "cols = list(df.columns[2:13])\n",
        "df = df.sort_values(by=cols, ascending=False).head(5)\n",
        "\n",
        "fig,ax = plt.subplots(1,1, figsize=(20,10))\n",
        "for i,reason in enumerate(cols):\n",
        "    sns.lineplot(x=df['States/UTs'],y=df[reason], label=cols[i])\n",
        "    plt.ylabel('# of People Killed in Accidents')\n",
        "    plt.title('Statewise No. of Accidents where People were Killed and Weather Conditions', fontsize=15)\n",
        "    plt.legend(loc='upper left')"
      ],
      "execution_count": null,
      "outputs": []
    },
    {
      "cell_type": "code",
      "metadata": {
        "id": "xAOqWV75giLJ"
      },
      "source": [
        "sub_df = weather_df_injured[weather_df_injured['Zones'] == 'South Zone']\n",
        "df =pd.pivot_table(sub_df, index=['Zones'],aggfunc=np.sum).reset_index()\n",
        "df = df.T.reset_index()\n",
        "df = df.rename(columns = {'index': 'Weather Conditions', 0: 'Total'})\n",
        "df = df.drop(df.index[0])\n",
        "df = df.sort_values(by = ['Total'], ascending=False).head(10)\n",
        "df\n",
        "\n",
        "fig,ax = plt.subplots(1,1, figsize=(20,10))\n",
        "\n",
        "sns.barplot(x=df['Weather Conditions'],y=df['Total'])\n",
        "plt.ylabel('# of People Injured')\n",
        "plt.title('Southern Zone No. of People Injured in Road Accidents Based on Weather', fontsize=15)\n",
        "plt.xticks(rotation=90)"
      ],
      "execution_count": null,
      "outputs": []
    },
    {
      "cell_type": "code",
      "metadata": {
        "id": "Z7DUmtwcgiN0"
      },
      "source": [
        "sub_df = weather_df_injured[weather_df_injured['Zones'] == 'South Zone']\n",
        "df =pd.pivot_table(sub_df, index=['States/UTs'],aggfunc=np.sum).reset_index()\n",
        "df = df.reset_index()\n",
        "cols = list(df.columns[2:13])\n",
        "df = df.sort_values(by=cols, ascending=False).head(5)\n",
        "\n",
        "fig,ax = plt.subplots(1,1, figsize=(20,10))\n",
        "for i,reason in enumerate(cols):\n",
        "    sns.lineplot(x=df['States/UTs'],y=df[reason], label=cols[i])\n",
        "    plt.ylabel('# of People Injured in Accidents')\n",
        "    plt.title('Statewise No. of Accidents where People were Injured and Weather Conditions', fontsize=15)\n",
        "    plt.legend(loc='upper left')"
      ],
      "execution_count": null,
      "outputs": []
    },
    {
      "cell_type": "code",
      "metadata": {
        "id": "LC7FfosagiQZ"
      },
      "source": [
        "sub_df = roadcond_df_killed[roadcond_df_killed['Zones'] == 'South Zone']\n",
        "df =pd.pivot_table(sub_df, index=['Zones'],aggfunc=np.sum).reset_index()\n",
        "df = df.T.reset_index()\n",
        "df = df.rename(columns = {'index': 'Road Conditions', 0: 'Total'})\n",
        "df = df.drop(df.index[0])\n",
        "df = df.sort_values(by = ['Total'], ascending=False).head(10)\n",
        "df\n",
        "\n",
        "fig,ax = plt.subplots(1,1, figsize=(20,10))\n",
        "sns.barplot(x=df['Road Conditions'],y=df['Total'])\n",
        "plt.ylabel('# of People Killed')\n",
        "plt.title('Southern Zone No. of People Killed in Road Accidents Based on Road Conditions', fontsize=15)\n",
        "plt.xticks(rotation=90)"
      ],
      "execution_count": null,
      "outputs": []
    },
    {
      "cell_type": "code",
      "metadata": {
        "id": "_9HT36yXgiS0"
      },
      "source": [
        "sub_df = roadcond_df_killed[roadcond_df_killed['Zones'] == 'South Zone']\n",
        "df =pd.pivot_table(sub_df, index=['States/UTs'],aggfunc=np.sum).reset_index()\n",
        "df = df.reset_index()\n",
        "cols = list(df.columns[2:13])\n",
        "df = df.sort_values(by=cols, ascending=False).head(5)\n",
        "\n",
        "fig,ax = plt.subplots(1,1, figsize=(20,10))\n",
        "for i,reason in enumerate(cols):\n",
        "    sns.lineplot(x=df['States/UTs'],y=df[reason], label=cols[i])\n",
        "    plt.ylabel('# of People Killed in Accidents')\n",
        "    plt.title('Statewise No. of Accidents where People were Killed and Road Conditions', fontsize=15)\n",
        "    plt.legend(loc='upper left')"
      ],
      "execution_count": null,
      "outputs": []
    },
    {
      "cell_type": "code",
      "metadata": {
        "id": "zBv43KNPgiVU"
      },
      "source": [
        "sub_df = roadcond_df_injured[roadcond_df_injured['Zones'] == 'South Zone']\n",
        "df =pd.pivot_table(sub_df, index=['Zones'],aggfunc=np.sum).reset_index()\n",
        "df = df.T.reset_index()\n",
        "df = df.rename(columns = {'index': 'Road Conditions', 0: 'Total'})\n",
        "df = df.drop(df.index[0])\n",
        "df = df.sort_values(by = ['Total'], ascending=False).head(10)\n",
        "df\n",
        "\n",
        "fig,ax = plt.subplots(1,1, figsize=(20,10))\n",
        "sns.barplot(x=df['Road Conditions'],y=df['Total'])\n",
        "plt.ylabel('# of People Injured')\n",
        "plt.title('Southern Zone No. of People Injured in Road Accidents Based on Road Conditions', fontsize=15)\n",
        "plt.xticks(rotation=90)"
      ],
      "execution_count": null,
      "outputs": []
    },
    {
      "cell_type": "code",
      "metadata": {
        "id": "sE6Fc1lJgiX7"
      },
      "source": [
        "sub_df = roadcond_df_injured[roadcond_df_injured['Zones'] == 'South Zone']\n",
        "df =pd.pivot_table(sub_df, index=['States/UTs'],aggfunc=np.sum).reset_index()\n",
        "df = df.reset_index()\n",
        "cols = list(df.columns[2:13])\n",
        "df = df.sort_values(by=cols, ascending=False).head(5)\n",
        "\n",
        "fig,ax = plt.subplots(1,1, figsize=(20,10))\n",
        "for i,reason in enumerate(cols):\n",
        "    sns.lineplot(x=df['States/UTs'],y=df[reason], label=cols[i])\n",
        "    plt.ylabel('# of People Injured in Accidents')\n",
        "    plt.title('Statewise No. of Accidents where People were Injured and Road Conditions', fontsize=15)\n",
        "    plt.legend(loc='upper left')"
      ],
      "execution_count": null,
      "outputs": []
    },
    {
      "cell_type": "code",
      "metadata": {
        "id": "lTVAsXudnWqS"
      },
      "source": [
        "sub_df = killed_df[killed_df['Zones'] == 'North Zone']\n",
        "df =pd.pivot_table(sub_df, index=['States/UTs'],values=[2014, 2015, 2016, 2017],aggfunc=np.sum).reset_index()\n",
        "df\n",
        "\n",
        "years = [2014,2015,2016,2017]\n",
        "fig,ax = plt.subplots(1,1, figsize=(20,10))\n",
        "for i,year in enumerate(years):\n",
        "    sns.barplot(x=df['States/UTs'],y=df[year])\n",
        "    plt.ylabel('# of People Killed in Road Accidents')\n",
        "    plt.title('Northern State Wise No. of Road Accidents where People were Killed', fontsize=15)"
      ],
      "execution_count": null,
      "outputs": []
    },
    {
      "cell_type": "code",
      "metadata": {
        "id": "Ujuog1SPnWtt"
      },
      "source": [
        "sub_df = injured_df[injured_df['Zones'] == 'North Zone']\n",
        "df =pd.pivot_table(sub_df, index=['States/UTs'],values=[2014, 2015, 2016, 2017],aggfunc=np.sum).reset_index()\n",
        "df\n",
        "\n",
        "years = [2014,2015,2016,2017]\n",
        "fig,ax = plt.subplots(1,1, figsize=(20,10))\n",
        "for i,year in enumerate(years):\n",
        "    sns.barplot(x=df['States/UTs'],y=df[year])\n",
        "    plt.ylabel('# of People Injured in Road Accidents')\n",
        "    plt.title('Northern State Wise No. of Road Accidents where People were Injured', fontsize=15)"
      ],
      "execution_count": null,
      "outputs": []
    },
    {
      "cell_type": "code",
      "metadata": {
        "id": "t74PAPoEnWxJ"
      },
      "source": [
        "sub_df = weather_df_killed[weather_df_killed['Zones'] == 'North Zone']\n",
        "df =pd.pivot_table(sub_df, index=['Zones'],aggfunc=np.sum).reset_index()\n",
        "df = df.T.reset_index()\n",
        "df = df.rename(columns = {'index': 'Weather Conditions', 0: 'Total'})\n",
        "df = df.drop(df.index[0])\n",
        "df = df.sort_values(by = ['Total'], ascending=False).head(10)\n",
        "df\n",
        "\n",
        "fig,ax = plt.subplots(1,1, figsize=(20,10))\n",
        "sns.barplot(x=df['Weather Conditions'],y=df['Total'])\n",
        "plt.ylabel('# of People Killed')\n",
        "plt.title('Northern Zone No. of People Killed in Road Accidents Based on Weather', fontsize=15)\n",
        "plt.xticks(rotation=90)"
      ],
      "execution_count": null,
      "outputs": []
    },
    {
      "cell_type": "code",
      "metadata": {
        "id": "2jfQliw6nW0U"
      },
      "source": [
        "sub_df = weather_df_killed[weather_df_killed['Zones'] == 'North Zone']\n",
        "df =pd.pivot_table(sub_df, index=['States/UTs'],aggfunc=np.sum).reset_index()\n",
        "df = df.reset_index()\n",
        "cols = list(df.columns[5:18])\n",
        "df = df.sort_values(by=cols, ascending=False).head(7)\n",
        "\n",
        "fig,ax = plt.subplots(1,1, figsize=(20,10))\n",
        "for i,reason in enumerate(cols):\n",
        "    sns.lineplot(x=df['States/UTs'],y=df[reason], label=cols[i])\n",
        "    plt.ylabel('# of People Killed in Accidents')\n",
        "    plt.title('Statewise No. of Accidents where People were Killed and Weather Conditions', fontsize=15)\n",
        "    plt.legend(loc='upper left')"
      ],
      "execution_count": null,
      "outputs": []
    },
    {
      "cell_type": "code",
      "metadata": {
        "id": "glI592QznW3e"
      },
      "source": [
        "sub_df = weather_df_injured[weather_df_injured['Zones'] == 'North Zone']\n",
        "df =pd.pivot_table(sub_df, index=['Zones'],aggfunc=np.sum).reset_index()\n",
        "df = df.T.reset_index()\n",
        "df = df.rename(columns = {'index': 'Weather Conditions', 0: 'Total'})\n",
        "df = df.drop(df.index[0])\n",
        "df = df.sort_values(by = ['Total'], ascending=False).head(10)\n",
        "df\n",
        "\n",
        "fig,ax = plt.subplots(1,1, figsize=(20,10))\n",
        "\n",
        "sns.barplot(x=df['Weather Conditions'],y=df['Total'])\n",
        "plt.ylabel('# of People Injured')\n",
        "plt.title('Northern Zone No. of People Injured in Road Accidents Based on Weather', fontsize=15)\n",
        "plt.xticks(rotation=90)"
      ],
      "execution_count": null,
      "outputs": []
    },
    {
      "cell_type": "code",
      "metadata": {
        "id": "T9UltSE6ninQ"
      },
      "source": [
        "sub_df = weather_df_injured[weather_df_injured['Zones'] == 'North Zone']\n",
        "df =pd.pivot_table(sub_df, index=['States/UTs'],aggfunc=np.sum).reset_index()\n",
        "df = df.reset_index()\n",
        "cols = list(df.columns[5:18])\n",
        "df = df.sort_values(by=cols, ascending=False).head(7)\n",
        "\n",
        "fig,ax = plt.subplots(1,1, figsize=(20,10))\n",
        "for i,reason in enumerate(cols):\n",
        "    sns.lineplot(x=df['States/UTs'],y=df[reason], label=cols[i])\n",
        "    plt.ylabel('# of People Injured in Accidents')\n",
        "    plt.title('Statewise No. of Accidents where People were Injured and Weather Conditions', fontsize=15)\n",
        "    plt.legend(loc='upper left')"
      ],
      "execution_count": null,
      "outputs": []
    },
    {
      "cell_type": "code",
      "metadata": {
        "id": "KaR56zu_nipz"
      },
      "source": [
        "sub_df = roadcond_df_killed[roadcond_df_killed['Zones'] == 'North Zone']\n",
        "df =pd.pivot_table(sub_df, index=['Zones'],aggfunc=np.sum).reset_index()\n",
        "df = df.T.reset_index()\n",
        "df = df.rename(columns = {'index': 'Road Conditions', 0: 'Total'})\n",
        "df = df.drop(df.index[0])\n",
        "df = df.sort_values(by = ['Total'], ascending=False).head(10)\n",
        "df\n",
        "\n",
        "fig,ax = plt.subplots(1,1, figsize=(20,10))\n",
        "sns.barplot(x=df['Road Conditions'],y=df['Total'])\n",
        "plt.ylabel('# of People Killed')\n",
        "plt.title('Northern Zone No. of People Killed in Road Accidents Based on Road Conditions', fontsize=15)\n",
        "plt.xticks(rotation=90)"
      ],
      "execution_count": null,
      "outputs": []
    },
    {
      "cell_type": "code",
      "metadata": {
        "id": "bWL0oI8initw"
      },
      "source": [
        "sub_df = roadcond_df_killed[roadcond_df_killed['Zones'] == 'North Zone']\n",
        "df =pd.pivot_table(sub_df, index=['States/UTs'],aggfunc=np.sum).reset_index()\n",
        "df = df.reset_index()\n",
        "cols = list(df.columns[2:13])\n",
        "df = df.sort_values(by=cols, ascending=False).head(7)\n",
        "\n",
        "fig,ax = plt.subplots(1,1, figsize=(20,10))\n",
        "for i,reason in enumerate(cols):\n",
        "    sns.lineplot(x=df['States/UTs'],y=df[reason], label=cols[i])\n",
        "    plt.ylabel('# of People Killed in Accidents')\n",
        "    plt.title('Statewise No. of Accidents where People were Killed and Road Conditions', fontsize=15)\n",
        "    plt.legend(loc='upper left')"
      ],
      "execution_count": null,
      "outputs": []
    },
    {
      "cell_type": "code",
      "metadata": {
        "id": "sbppxhvdniyQ"
      },
      "source": [
        "sub_df = roadcond_df_injured[roadcond_df_injured['Zones'] == 'North Zone']\n",
        "df =pd.pivot_table(sub_df, index=['Zones'],aggfunc=np.sum).reset_index()\n",
        "df = df.T.reset_index()\n",
        "df = df.rename(columns = {'index': 'Road Conditions', 0: 'Total'})\n",
        "df = df.drop(df.index[0])\n",
        "df = df.sort_values(by = ['Total'], ascending=False).head(10)\n",
        "df\n",
        "\n",
        "fig,ax = plt.subplots(1,1, figsize=(20,10))\n",
        "sns.barplot(x=df['Road Conditions'],y=df['Total'])\n",
        "plt.ylabel('# of People Injured')\n",
        "plt.title('Northern Zone No. of People Injured in Road Accidents Based on Road Conditions', fontsize=15)\n",
        "plt.xticks(rotation=90)"
      ],
      "execution_count": null,
      "outputs": []
    },
    {
      "cell_type": "code",
      "metadata": {
        "id": "EfHyiHWYni1-"
      },
      "source": [
        "sub_df = roadcond_df_injured[roadcond_df_injured['Zones'] == 'North Zone']\n",
        "df =pd.pivot_table(sub_df, index=['States/UTs'],aggfunc=np.sum).reset_index()\n",
        "df = df.reset_index()\n",
        "cols = list(df.columns[2:13])\n",
        "df = df.sort_values(by=cols, ascending=False).head(7)\n",
        "\n",
        "fig,ax = plt.subplots(1,1, figsize=(20,10))\n",
        "for i,reason in enumerate(cols):\n",
        "    sns.lineplot(x=df['States/UTs'],y=df[reason], label=cols[i])\n",
        "    plt.ylabel('# of People Injured in Accidents')\n",
        "    plt.title('Statewise No. of Accidents where People were Injured and Road Conditions', fontsize=15)\n",
        "    plt.legend(loc='upper left')"
      ],
      "execution_count": null,
      "outputs": []
    }
  ]
}